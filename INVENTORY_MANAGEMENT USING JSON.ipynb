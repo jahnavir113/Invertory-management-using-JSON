{
 "cells": [
  {
   "cell_type": "code",
   "execution_count": 1,
   "id": "6547f0b8",
   "metadata": {},
   "outputs": [],
   "source": [
    "record={'1001':{'Name':'Chococake','pr':100,'qn':34},\n",
    "       '1002':{'Name':'Milkcake','pr':800,'qn':100},\n",
    "       '1003':{'Name':'Drink','pr':85,'qn':84},\n",
    "       '1004':{'Name':'Candy','pr':5,'qn':1000},\n",
    "       '1005':{'Name':'Pen','pr':20,'qn':450}}"
   ]
  },
  {
   "cell_type": "code",
   "execution_count": 3,
   "id": "d6519446",
   "metadata": {},
   "outputs": [],
   "source": [
    "import json\n",
    "f=open(\"record.json\",\"w\")"
   ]
  },
  {
   "cell_type": "code",
   "execution_count": 4,
   "id": "75ec2937",
   "metadata": {},
   "outputs": [],
   "source": [
    "json.dump(record, f)"
   ]
  },
  {
   "cell_type": "code",
   "execution_count": 37,
   "id": "fba0707b",
   "metadata": {},
   "outputs": [
    {
     "name": "stdout",
     "output_type": "stream",
     "text": [
      "Enter the Product Id1031\n",
      "Enter the Product namePencil\n",
      "Enter the product price5\n",
      "Enter the Quantity650\n"
     ]
    }
   ],
   "source": [
    "prod_id = str(input(\"Enter the Product Id\"))\n",
    "prod_name =str(input(\"Enter the Product name\"))\n",
    "prod_price = int(input(\"Enter the product price\"))\n",
    "quan = int(input(\"Enter the Quantity\"))\n",
    "\n",
    "record[prod_id] = {'Name':prod_name,'pr':prod_price,'qn':quan}"
   ]
  },
  {
   "cell_type": "code",
   "execution_count": 38,
   "id": "47c1b84d",
   "metadata": {},
   "outputs": [
    {
     "data": {
      "text/plain": [
       "{'1001': {'Name': 'Chococake', 'pr': 100, 'qn': 34},\n",
       " '1002': {'Name': 'Milkcake', 'pr': 800, 'qn': 100},\n",
       " '1003': {'Name': 'Drink', 'pr': 85, 'qn': 84},\n",
       " '1004': {'Name': 'Candy', 'pr': 5, 'qn': 1000},\n",
       " '1005': {'Name': 'Pen', 'pr': 20, 'qn': 450},\n",
       " '1006': {'Name': 'Eraser', 'pr': 5, 'qn': 450},\n",
       " '1007': {'Name': 'Biscuits', 'pr': 25, 'qn': 150},\n",
       " '1008': {'Name': 'Book', 'pr': 30, 'qn': 500},\n",
       " '1009': {'Name': 'Bottle', 'pr': 50, 'qn': 130},\n",
       " '1010': {'Name': 'Crayons', 'pr': 40, 'qn': 420},\n",
       " '1011': {'Name': 'Mobile', 'pr': 10000, 'qn': 80},\n",
       " '1012': {'Name': 'Bag', 'pr': 1500, 'qn': 50},\n",
       " '1013': {'Name': 'Calculator', 'pr': 500, 'qn': 250},\n",
       " '1014': {'Name': 'chair', 'pr': 150, 'qn': 70},\n",
       " '1015': {'Name': 'Paint', 'pr': 210, 'qn': 90},\n",
       " '1016': {'Name': 'Nail Polish', 'pr': 20, 'qn': 500},\n",
       " '1017': {'Name': 'Bedsheets', 'pr': 400, 'qn': 150},\n",
       " '1018': {'Name': 'Powder', 'pr': 60, 'qn': 80},\n",
       " '1019': {'Name': 'Basket', 'pr': 45, 'qn': 100},\n",
       " '1020': {'Name': 'Tedy Bear', 'pr': 250, 'qn': 50},\n",
       " '1021': {'Name': 'Necklace', 'pr': 150, 'qn': 200},\n",
       " '1022': {'Name': 'Earrings', 'pr': 20, 'qn': 180},\n",
       " '1023': {'Name': 'Lipstick', 'pr': 189, 'qn': 250},\n",
       " '1024': {'Name': 'Doormats', 'pr': 120, 'qn': 50},\n",
       " '1025': {'Name': 'Sharpner', 'pr': 8, 'qn': 100},\n",
       " '1026': {'Name': 'Bangles', 'pr': 30, 'qn': 600},\n",
       " '1027': {'Name': 'Marker', 'pr': 50, 'qn': 40},\n",
       " '1028': {'Name': 'Sketchpens', 'pr': 60, 'qn': 110},\n",
       " '1029': {'Name': 'Scissor', 'pr': 25, 'qn': 50},\n",
       " '1030': {'Name': 'Scale', 'pr': 15, 'qn': 50},\n",
       " '1031': {'Name': 'Pencil', 'pr': 5, 'qn': 650}}"
      ]
     },
     "execution_count": 38,
     "metadata": {},
     "output_type": "execute_result"
    }
   ],
   "source": [
    "record"
   ]
  },
  {
   "cell_type": "code",
   "execution_count": 39,
   "id": "1b9cd4c5",
   "metadata": {},
   "outputs": [],
   "source": [
    "f=open(\"record.json\",\"w\")\n",
    "json.dump(record, f)\n",
    "f.close()"
   ]
  },
  {
   "cell_type": "code",
   "execution_count": 47,
   "id": "72bddb5e",
   "metadata": {},
   "outputs": [],
   "source": [
    "sales[len(sales)]={'j':1}"
   ]
  },
  {
   "cell_type": "code",
   "execution_count": 96,
   "id": "c3d2e6df",
   "metadata": {},
   "outputs": [
    {
     "data": {
      "text/plain": [
       "{1: {'prod_id': '1020', 'quan': 2, 'amount': 500},\n",
       " 2: {'prod_id': '1005', 'quan': 8, 'amount': 160},\n",
       " 3: {'prod_id': '1021', 'quan': 10, 'amount': 1500},\n",
       " 4: {'prod_id': '1007', 'quan': 6, 'amount': 150},\n",
       " 5: {'prod_id': '1003', 'quan': 18, 'amount': 1530},\n",
       " 6: {'prod_id': '1015', 'quan': 12, 'amount': 2520},\n",
       " 7: {'prod_id': '1004', 'quan': 60, 'amount': 300},\n",
       " 8: {'prod_id': '1016', 'quan': 7, 'amount': 140},\n",
       " 9: {'prod_id': '1024', 'quan': 12, 'amount': 1440},\n",
       " 10: {'prod_id': '1025', 'quan': 3, 'amount': 24},\n",
       " 11: {'prod_id': '1031', 'quan': 10, 'amount': 50},\n",
       " 12: {'prod_id': '1007', 'quan': 9, 'amount': 225},\n",
       " 13: {'prod_id': '1013', 'quan': 25, 'amount': 12500},\n",
       " 14: {'prod_id': '1004', 'quan': 5, 'amount': 25},\n",
       " 15: {'prod_id': '1019', 'quan': 28, 'amount': 1260},\n",
       " 16: {'prod_id': '1024', 'quan': 25, 'amount': 3000},\n",
       " 17: {'prod_id': '1030', 'quan': 5, 'amount': 75},\n",
       " 18: {'prod_id': '1021', 'quan': 15, 'amount': 2250},\n",
       " 19: {'prod_id': '1001', 'quan': 25, 'amount': 2500},\n",
       " 20: {'prod_id': '1008', 'quan': 25, 'amount': 750},\n",
       " 21: {'prod_id': '1006', 'quan': 50, 'amount': 250},\n",
       " 22: {'prod_id': '1022', 'quan': 25, 'amount': 500},\n",
       " 23: {'prod_id': '1005', 'quan': 21, 'amount': 420}}"
      ]
     },
     "execution_count": 96,
     "metadata": {},
     "output_type": "execute_result"
    }
   ],
   "source": [
    "sales"
   ]
  },
  {
   "cell_type": "code",
   "execution_count": 100,
   "id": "a1d34f26",
   "metadata": {},
   "outputs": [
    {
     "name": "stdout",
     "output_type": "stream",
     "text": [
      "Enter the Product Id1009\n",
      "Enter the Qunatity6\n",
      "Billing amount 300\n"
     ]
    }
   ],
   "source": [
    "user_prod_id = str(input(\"Enter the Product Id\"))\n",
    "user_quantity = int(input(\"Enter the Qunatity\"))\n",
    "\n",
    "if record[user_prod_id]['qn']<user_quantity:\n",
    "    print(\"Sorry, We don't have enough items\")\n",
    "else:\n",
    "    amount=user_quantity*record[user_prod_id]['pr']\n",
    "    sales[len(sales)+1]={'prod_id': user_prod_id, 'quan':user_quantity, 'amount':amount}\n",
    "    record[user_prod_id]['qn']= record[user_prod_id]['qn']-user_quantity\n",
    "    \n",
    "    print(\"Billing amount\", amount)\n"
   ]
  },
  {
   "cell_type": "code",
   "execution_count": 101,
   "id": "8e92da3c",
   "metadata": {},
   "outputs": [],
   "source": [
    "f=open(\"record.json\",\"w\")\n",
    "json.dump(record, f)\n",
    "f.close()"
   ]
  },
  {
   "cell_type": "code",
   "execution_count": 102,
   "id": "c47658e8",
   "metadata": {},
   "outputs": [
    {
     "data": {
      "text/plain": [
       "{'1001': {'Name': 'Chococake', 'pr': 100, 'qn': 9},\n",
       " '1002': {'Name': 'Milkcake', 'pr': 800, 'qn': 100},\n",
       " '1003': {'Name': 'Drink', 'pr': 85, 'qn': 66},\n",
       " '1004': {'Name': 'Candy', 'pr': 5, 'qn': 935},\n",
       " '1005': {'Name': 'Pen', 'pr': 20, 'qn': 421},\n",
       " '1006': {'Name': 'Eraser', 'pr': 5, 'qn': 400},\n",
       " '1007': {'Name': 'Biscuits', 'pr': 25, 'qn': 135},\n",
       " '1008': {'Name': 'Book', 'pr': 30, 'qn': 475},\n",
       " '1009': {'Name': 'Bottle', 'pr': 50, 'qn': 124},\n",
       " '1010': {'Name': 'Crayons', 'pr': 40, 'qn': 420},\n",
       " '1011': {'Name': 'Mobile', 'pr': 10000, 'qn': 80},\n",
       " '1012': {'Name': 'Bag', 'pr': 1500, 'qn': 50},\n",
       " '1013': {'Name': 'Calculator', 'pr': 500, 'qn': 225},\n",
       " '1014': {'Name': 'chair', 'pr': 150, 'qn': 35},\n",
       " '1015': {'Name': 'Paint', 'pr': 210, 'qn': 78},\n",
       " '1016': {'Name': 'Nail Polish', 'pr': 20, 'qn': 493},\n",
       " '1017': {'Name': 'Bedsheets', 'pr': 400, 'qn': 150},\n",
       " '1018': {'Name': 'Powder', 'pr': 60, 'qn': 80},\n",
       " '1019': {'Name': 'Basket', 'pr': 45, 'qn': 72},\n",
       " '1020': {'Name': 'Tedy Bear', 'pr': 250, 'qn': 48},\n",
       " '1021': {'Name': 'Necklace', 'pr': 150, 'qn': 175},\n",
       " '1022': {'Name': 'Earrings', 'pr': 20, 'qn': 155},\n",
       " '1023': {'Name': 'Lipstick', 'pr': 189, 'qn': 250},\n",
       " '1024': {'Name': 'Doormats', 'pr': 120, 'qn': 13},\n",
       " '1025': {'Name': 'Sharpner', 'pr': 8, 'qn': 73},\n",
       " '1026': {'Name': 'Bangles', 'pr': 30, 'qn': 600},\n",
       " '1027': {'Name': 'Marker', 'pr': 50, 'qn': 40},\n",
       " '1028': {'Name': 'Sketchpens', 'pr': 60, 'qn': 110},\n",
       " '1029': {'Name': 'Scissor', 'pr': 25, 'qn': 40},\n",
       " '1030': {'Name': 'Scale', 'pr': 15, 'qn': 45},\n",
       " '1031': {'Name': 'Pencil', 'pr': 5, 'qn': 625}}"
      ]
     },
     "execution_count": 102,
     "metadata": {},
     "output_type": "execute_result"
    }
   ],
   "source": [
    "record"
   ]
  },
  {
   "cell_type": "code",
   "execution_count": 103,
   "id": "7c985434",
   "metadata": {},
   "outputs": [],
   "source": [
    "f=open(\"sales.json\",\"w\")\n",
    "json.dump(sales, f)\n",
    "f.close()"
   ]
  },
  {
   "cell_type": "code",
   "execution_count": null,
   "id": "4df752f9",
   "metadata": {},
   "outputs": [],
   "source": []
  }
 ],
 "metadata": {
  "kernelspec": {
   "display_name": "Python 3",
   "language": "python",
   "name": "python3"
  },
  "language_info": {
   "codemirror_mode": {
    "name": "ipython",
    "version": 3
   },
   "file_extension": ".py",
   "mimetype": "text/x-python",
   "name": "python",
   "nbconvert_exporter": "python",
   "pygments_lexer": "ipython3",
   "version": "3.8.8"
  }
 },
 "nbformat": 4,
 "nbformat_minor": 5
}
